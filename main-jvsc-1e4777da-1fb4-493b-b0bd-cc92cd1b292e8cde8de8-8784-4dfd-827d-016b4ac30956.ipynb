{
 "cells": [
  {
   "cell_type": "code",
   "execution_count": null,
   "metadata": {},
   "outputs": [],
   "source": []
  }
 ],
 "metadata": {
  "kernelspec": {
   "display_name": "Python 2.7.18 64-bit ('2.7.18')",
   "language": "python",
   "name": "python3"
  },
  "language_info": {
   "name": "python",
   "version": "2.7.18"
  },
  "vscode": {
   "interpreter": {
    "hash": "52ddf0d0eedaaccdcad169b3b82cf8afefea24a9f437c5448f7897b08c3d91ec"
   }
  }
 },
 "nbformat": 4,
 "nbformat_minor": 5
}
