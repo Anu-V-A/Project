{
 "cells": [
  {
   "cell_type": "code",
   "execution_count": 1,
   "metadata": {},
   "outputs": [
    {
     "name": "stderr",
     "output_type": "stream",
     "text": [
      "2022-09-22 15:09:33.385122: I tensorflow/core/common_runtime/pluggable_device/pluggable_device_factory.cc:305] Could not identify NUMA node of platform GPU ID 0, defaulting to 0. Your kernel may not have been built with NUMA support.\n",
      "2022-09-22 15:09:33.385323: I tensorflow/core/common_runtime/pluggable_device/pluggable_device_factory.cc:271] Created TensorFlow device (/job:localhost/replica:0/task:0/device:GPU:0 with 0 MB memory) -> physical PluggableDevice (device: 0, name: METAL, pci bus id: <undefined>)\n"
     ]
    },
    {
     "name": "stdout",
     "output_type": "stream",
     "text": [
      "Metal device set to: Apple M1\n",
      "\n",
      "systemMemory: 8.00 GB\n",
      "maxCacheSize: 2.67 GB\n",
      "\n",
      "1/1 [==============================] - 0s 107ms/step\n"
     ]
    },
    {
     "name": "stderr",
     "output_type": "stream",
     "text": [
      "2022-09-22 15:09:38.892916: W tensorflow/core/platform/profile_utils/cpu_utils.cc:128] Failed to get CPU frequency: 0 Hz\n",
      "2022-09-22 15:09:38.950036: I tensorflow/core/grappler/optimizers/custom_graph_optimizer_registry.cc:113] Plugin optimizer for device_type GPU is enabled.\n"
     ]
    },
    {
     "name": "stdout",
     "output_type": "stream",
     "text": [
      "argmax 1 \n",
      " 0.987703 \n",
      " 1\n",
      "1/1 [==============================] - 0s 14ms/step\n",
      "argmax 2 \n",
      " 0.97495383 \n",
      " 2\n",
      "1/1 [==============================] - 0s 14ms/step\n",
      "argmax 3 \n",
      " 0.999491 \n",
      " 3\n",
      "1/1 [==============================] - 0s 15ms/step\n",
      "argmax 4 \n",
      " 0.623929 \n",
      " 4\n",
      "1/1 [==============================] - 0s 14ms/step\n",
      "argmax 5 \n",
      " 0.99999833 \n",
      " 5\n",
      "1/1 [==============================] - 0s 14ms/step\n",
      "argmax 0 \n",
      " 0.61808103 \n",
      " 0\n",
      "1/1 [==============================] - 0s 13ms/step\n",
      "argmax 6 \n",
      " 0.54198253 \n",
      " 6\n",
      "1/1 [==============================] - 0s 14ms/step\n",
      "argmax 8 \n",
      " 0.9990983 \n",
      " 8\n",
      "1/1 [==============================] - 0s 15ms/step\n",
      "argmax 7 \n",
      " 0.62054896 \n",
      " 7\n",
      "1/1 [==============================] - 0s 14ms/step\n",
      "argmax 6 \n",
      " 0.99486405 \n",
      " 6\n",
      "1/1 [==============================] - 0s 13ms/step\n",
      "argmax 9 \n",
      " 0.994248 \n",
      " 9\n"
     ]
    }
   ],
   "source": [
    "from tensorflowTesting import testing\n",
    "from keras.models import load_model\n",
    "import cv2\n",
    "import numpy as np\n",
    "import os\n",
    "\n",
    "from PIL import ImageTk, Image, ImageDraw\n",
    "import PIL\n",
    "import tkinter as tk\n",
    "from tkinter import *\n",
    "\n",
    "classes=[0,1,2,3,4,5,6,7,8,9]\n",
    "width = 500\n",
    "height = 500\n",
    "center = height//2\n",
    "white = (255, 255, 255)\n",
    "green = (0,128,0)\n",
    "\n",
    "def paint(event):\n",
    "    x1, y1 = (event.x - 10), (event.y - 10)\n",
    "    x2, y2 = (event.x + 10), (event.y + 10)\n",
    "    cv.create_oval(x1, y1, x2, y2, fill=\"black\",width=40)\n",
    "    draw.line([x1, y1, x2, y2],fill=\"black\",width=40)\n",
    "def model():\n",
    "    filename = \"image.png\"\n",
    "    image1.save(filename)\n",
    "    pred=testing()\n",
    "    print('argmax',np.argmax(pred[0]),'\\n',\n",
    "          pred[0][np.argmax(pred[0])],'\\n',classes[np.argmax(pred[0])])\n",
    "    txt.insert(tk.INSERT,\"{}\\nAccuracy: {}%\".format(classes[np.argmax(pred[0])],round(pred[0][np.argmax(pred[0])]*100,3)))\n",
    "    \n",
    "def clear():\n",
    "    cv.delete('all')\n",
    "    draw.rectangle((0, 0, 500, 500), fill=(255, 255, 255, 0))\n",
    "    txt.delete('1.0', END)\n",
    "\n",
    "root = Tk()\n",
    "\n",
    "root.resizable(0,0)\n",
    "cv = Canvas(root, width=width, height=height, bg='white')\n",
    "cv.pack()\n",
    "\n",
    "image1 = PIL.Image.new(\"RGB\", (width, height), white)\n",
    "draw = ImageDraw.Draw(image1)\n",
    "\n",
    "txt=tk.Text(root,bd=3,exportselection=0,bg='WHITE',font='Helvetica',\n",
    "            padx=10,pady=10,height=5,width=20)\n",
    "\n",
    "cv.pack(expand=YES, fill=BOTH)\n",
    "cv.bind(\"<B1-Motion>\", paint)\n",
    "\n",
    "##button=Button(text=\"save\",command=save)\n",
    "btnModel=Button(text=\"Predict\",command=model)\n",
    "btnClear=Button(text=\"clear\",command=clear)\n",
    "##button.pack()\n",
    "btnModel.pack()\n",
    "btnClear.pack()\n",
    "txt.pack()\n",
    "root.title('Digit Recognizer')\n",
    "root.mainloop()\n"
   ]
  }
 ],
 "metadata": {
  "kernelspec": {
   "display_name": "Python 3.9.10 ('tensorflow')",
   "language": "python",
   "name": "python3"
  },
  "language_info": {
   "codemirror_mode": {
    "name": "ipython",
    "version": 3
   },
   "file_extension": ".py",
   "mimetype": "text/x-python",
   "name": "python",
   "nbconvert_exporter": "python",
   "pygments_lexer": "ipython3",
   "version": "3.9.10"
  },
  "orig_nbformat": 4,
  "vscode": {
   "interpreter": {
    "hash": "4bd624a0593993fe43ac4046b27b898fb2ef75c21c08f81e89e64ea0f51df676"
   }
  }
 },
 "nbformat": 4,
 "nbformat_minor": 2
}
